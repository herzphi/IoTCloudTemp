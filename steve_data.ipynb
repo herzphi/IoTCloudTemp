{
 "cells": [
  {
   "cell_type": "code",
   "execution_count": 1,
   "metadata": {},
   "outputs": [],
   "source": [
    "import iot_api_client as iot\n",
    "import datetime\n",
    "from dateutil.tz import tzutc\n",
    "import time as tm\n",
    "import pandas as pd\n",
    "import matplotlib.pyplot as plt\n",
    "from oauthlib.oauth2 import BackendApplicationClient\n",
    "from requests_oauthlib import OAuth2Session"
   ]
  },
  {
   "cell_type": "code",
   "execution_count": 42,
   "metadata": {},
   "outputs": [],
   "source": [
    "def get_token():\n",
    "    YOUR_CLIENT_ID = 'LEE2MI2lNlbbZhNs2s1XBPFSXkzZAUhA'\n",
    "    YOUR_CLIENT_SECRET = 'PIJWDrwgLiSYIopGGR1IjVjsgXrhNQ6R55Hy0nFf0ZZTQhAlXDw4vEppX462eKIZ'\n",
    "\n",
    "    oauth_client = BackendApplicationClient(client_id=YOUR_CLIENT_ID)\n",
    "    token_url = \"https://api2.arduino.cc/iot/v1/clients/token\"\n",
    "\n",
    "    oauth = OAuth2Session(client=oauth_client)\n",
    "    token = oauth.fetch_token(\n",
    "        token_url=token_url,\n",
    "        client_id=YOUR_CLIENT_ID,\n",
    "        client_secret=YOUR_CLIENT_SECRET,\n",
    "        include_client_id=True,\n",
    "        audience=\"https://api2.arduino.cc/iot\",\n",
    "    )\n",
    "    return token\n",
    "token = get_token()"
   ]
  },
  {
   "cell_type": "code",
   "execution_count": 44,
   "metadata": {},
   "outputs": [],
   "source": [
    "# Now we setup the iot-api Python client, first of all create a\n",
    "# configuration object. The access token goes in the config object.\n",
    "client_config = iot.Configuration(host=\"https://api2.arduino.cc/iot\")\n",
    "# client_config.debug = True\n",
    "client_config.access_token = token.get(\"access_token\")\n",
    "\n",
    "# Create the iot-api Python client with the given configuration\n",
    "client = iot.ApiClient(client_config)\n",
    "\n",
    "# Each API model has its own wrapper, here we want to interact with\n",
    "# devices, so we create a DevicesV2Api object\n",
    "client_devices = iot.DevicesV2Api(client)\n",
    "client_things = iot.ThingsV2Api(client)\n",
    "client_properties = iot.PropertiesV2Api(client)\n",
    "client_series = iot.SeriesV2Api(client)\n",
    "\n",
    "things = client_things.things_v2_list()\n",
    "for i in range(len(things)):\n",
    "    if things[i].name=='Noel code':\n",
    "        thing_id = things[i].id\n",
    "\n",
    "#   Set IDs\n",
    "properties = client_properties.properties_v2_list(thing_id)\n",
    "temp0_id = properties[0].id\n",
    "\n",
    "#client_devices.devices_v2_timeseries_with_http_info(thing_id, temp0_id, start='2022-11-08T14:00:00Z', limit=100)\n",
    "to_date_dict = client_properties.properties_v2_timeseries(thing_id, temp0_id)"
   ]
  },
  {
   "cell_type": "code",
   "execution_count": 45,
   "metadata": {},
   "outputs": [],
   "source": [
    "client_config = iot.Configuration(host=\"https://api2.arduino.cc/iot\")\n",
    "\n",
    "client_config.access_token = token.get(\"access_token\")\n",
    "\n",
    "client = iot.ApiClient(client_config)\n",
    "\n",
    "client_properties = iot.PropertiesV2Api(client)\n",
    "\n",
    "properties = client_properties.properties_v2_list(thing_id)\n",
    "\n",
    "name_props, id_props = ([] for i in range(2))\n",
    "\n",
    "for i in range(len(properties)):\n",
    "    name_props.append(properties[i].name)\n",
    "    id_props.append(properties[i].id)"
   ]
  },
  {
   "cell_type": "code",
   "execution_count": 40,
   "metadata": {},
   "outputs": [
    {
     "data": {
      "text/plain": [
       "['t_30', 't_31', 't_32', 't_33', 't_34', 't_35', 't_36', 't_37', 't_38']"
      ]
     },
     "execution_count": 40,
     "metadata": {},
     "output_type": "execute_result"
    }
   ],
   "source": [
    "def get_thing_id():\n",
    "    token = get_token()\n",
    "    # Now we setup the iot-api Python client, first of all create a\n",
    "    # configuration object. The access token goes in the config object.\n",
    "    client_config = iot.Configuration(host=\"https://api2.arduino.cc/iot\")\n",
    "    # client_config.debug = True\n",
    "    client_config.access_token = token.get(\"access_token\")\n",
    "\n",
    "    # Create the iot-api Python client with the given configuration\n",
    "    client = iot.ApiClient(client_config)\n",
    "    client_things = iot.ThingsV2Api(client)\n",
    "    things = client_things.things_v2_list()\n",
    "    for i in range(len(things)):\n",
    "        if things[i].name=='Noel code':\n",
    "            thing_id = things[i].id\n",
    "    return thing_id"
   ]
  },
  {
   "cell_type": "code",
   "execution_count": null,
   "metadata": {},
   "outputs": [],
   "source": []
  }
 ],
 "metadata": {
  "kernelspec": {
   "display_name": "venv",
   "language": "python",
   "name": "python3"
  },
  "language_info": {
   "codemirror_mode": {
    "name": "ipython",
    "version": 3
   },
   "file_extension": ".py",
   "mimetype": "text/x-python",
   "name": "python",
   "nbconvert_exporter": "python",
   "pygments_lexer": "ipython3",
   "version": "3.9.6"
  },
  "orig_nbformat": 4,
  "vscode": {
   "interpreter": {
    "hash": "59ceb6f5a60d6eb14f924fa1f3f8047b50ddb4c6354fb74bcd7b7a2240e0833e"
   }
  }
 },
 "nbformat": 4,
 "nbformat_minor": 2
}
